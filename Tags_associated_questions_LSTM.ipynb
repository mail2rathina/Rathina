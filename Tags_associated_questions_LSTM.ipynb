{
  "cells": [
    {
      "cell_type": "code",
      "execution_count": 1,
      "metadata": {
        "id": "e530a259"
      },
      "outputs": [],
      "source": [
        "import pandas as pd\n",
        "import numpy as np\n",
        "import re\n",
        "from sklearn.model_selection import train_test_split\n",
        "from sklearn.preprocessing import MultiLabelBinarizer\n",
        "from sklearn.metrics import accuracy_score,precision_score,recall_score,f1_score\n",
        "from keras.models import Sequential\n",
        "from keras.layers import LSTM,Dense,Embedding\n",
        "from keras.preprocessing.text import Tokenizer\n",
        "from tensorflow.keras.preprocessing.sequence import pad_sequences\n",
        "from keras.utils import to_categorical\n",
        "\n",
        "from sklearn.feature_extraction.text import TfidfVectorizer\n",
        "# from sklearn.multiclass import OneVsRestClasssifier\n",
        "from sklearn.svm import LinearSVC\n",
        "from sklearn.metrics import classification_report"
      ],
      "id": "e530a259"
    },
    {
      "cell_type": "code",
      "execution_count": 2,
      "metadata": {
        "id": "3lorpT-5NXP4",
        "colab": {
          "base_uri": "https://localhost:8080/"
        },
        "outputId": "9ca89d6b-0050-4c6d-89b9-ba53d9923680"
      },
      "outputs": [
        {
          "output_type": "stream",
          "name": "stdout",
          "text": [
            "--2023-07-02 06:34:53--  https://www.dropbox.com/s/5721wcs2guuykzl/stacksample.zip\n",
            "Resolving www.dropbox.com (www.dropbox.com)... 162.125.5.18, 2620:100:601d:18::a27d:512\n",
            "Connecting to www.dropbox.com (www.dropbox.com)|162.125.5.18|:443... connected.\n",
            "HTTP request sent, awaiting response... 302 Found\n",
            "Location: /s/raw/5721wcs2guuykzl/stacksample.zip [following]\n",
            "--2023-07-02 06:34:53--  https://www.dropbox.com/s/raw/5721wcs2guuykzl/stacksample.zip\n",
            "Reusing existing connection to www.dropbox.com:443.\n",
            "HTTP request sent, awaiting response... 302 Found\n",
            "Location: https://uc4931a72c475eec8b3d2490702c.dl.dropboxusercontent.com/cd/0/inline/B_Gft2d-_-yyxPIMeswMxxxf3InlgdyEJC6Yjr0PkoBgsTNZ_QW_8ZW_tIw0QjCAdwbj_CrM8YvZhSEG0sApT64TVaapLqiEpyeF8sqlu3AM4LsoRFZBApBLv637Z911_73AgMdfC_3PBg-c7rcaSZn5Pf6CkmogKG6eBZIRxlINZg/file# [following]\n",
            "--2023-07-02 06:34:53--  https://uc4931a72c475eec8b3d2490702c.dl.dropboxusercontent.com/cd/0/inline/B_Gft2d-_-yyxPIMeswMxxxf3InlgdyEJC6Yjr0PkoBgsTNZ_QW_8ZW_tIw0QjCAdwbj_CrM8YvZhSEG0sApT64TVaapLqiEpyeF8sqlu3AM4LsoRFZBApBLv637Z911_73AgMdfC_3PBg-c7rcaSZn5Pf6CkmogKG6eBZIRxlINZg/file\n",
            "Resolving uc4931a72c475eec8b3d2490702c.dl.dropboxusercontent.com (uc4931a72c475eec8b3d2490702c.dl.dropboxusercontent.com)... 162.125.5.15, 2620:100:601d:15::a27d:50f\n",
            "Connecting to uc4931a72c475eec8b3d2490702c.dl.dropboxusercontent.com (uc4931a72c475eec8b3d2490702c.dl.dropboxusercontent.com)|162.125.5.15|:443... connected.\n",
            "HTTP request sent, awaiting response... 302 Found\n",
            "Location: /cd/0/inline2/B_FgyFrjmadj8quXmCyzoVf1Tp20IMuvP7b-aR7JP83yubrXLvgVjGYq4kwnfvQShNhL1zPyZOrVniG5RKHPExZ-DedVLO-Ee9QreJPsIB2VgE4EuXsuIrVme1UfPGzq3WIwg24OZUuVvfmGiIjfm3JjjiQu4t-va4hxgzH3138mbEUZrrJGQQXHzfaLf6f5NL1vnfl2WRRYOBCHGqOQziFPOWBz-QdFdvS5ZLk2E0WoJpxFTRPSClvX4VokoMDfVFPT8OUySQGK1EQSsa73ob6KzzuisaW32EUq3AIua4c4qWqYrpCYZjGCGRp_rW83vxHH4Bi2ThQWXwPOV3tku09JOqRiP_MK4fF-_4b7z-QqnVAvhH5fqJh1eEkLxPebIA2HNewA_ltPL9H3fxsRb-jBSIS0hEdKoiRphOzZFHtKBw/file [following]\n",
            "--2023-07-02 06:34:54--  https://uc4931a72c475eec8b3d2490702c.dl.dropboxusercontent.com/cd/0/inline2/B_FgyFrjmadj8quXmCyzoVf1Tp20IMuvP7b-aR7JP83yubrXLvgVjGYq4kwnfvQShNhL1zPyZOrVniG5RKHPExZ-DedVLO-Ee9QreJPsIB2VgE4EuXsuIrVme1UfPGzq3WIwg24OZUuVvfmGiIjfm3JjjiQu4t-va4hxgzH3138mbEUZrrJGQQXHzfaLf6f5NL1vnfl2WRRYOBCHGqOQziFPOWBz-QdFdvS5ZLk2E0WoJpxFTRPSClvX4VokoMDfVFPT8OUySQGK1EQSsa73ob6KzzuisaW32EUq3AIua4c4qWqYrpCYZjGCGRp_rW83vxHH4Bi2ThQWXwPOV3tku09JOqRiP_MK4fF-_4b7z-QqnVAvhH5fqJh1eEkLxPebIA2HNewA_ltPL9H3fxsRb-jBSIS0hEdKoiRphOzZFHtKBw/file\n",
            "Reusing existing connection to uc4931a72c475eec8b3d2490702c.dl.dropboxusercontent.com:443.\n",
            "HTTP request sent, awaiting response... 200 OK\n",
            "Length: 1231288519 (1.1G) [application/zip]\n",
            "Saving to: ‘stacksample.zip’\n",
            "\n",
            "stacksample.zip     100%[===================>]   1.15G  88.5MB/s    in 15s     \n",
            "\n",
            "2023-07-02 06:35:09 (79.1 MB/s) - ‘stacksample.zip’ saved [1231288519/1231288519]\n",
            "\n"
          ]
        }
      ],
      "source": [
        "!wget https://www.dropbox.com/s/5721wcs2guuykzl/stacksample.zip"
      ],
      "id": "3lorpT-5NXP4"
    },
    {
      "cell_type": "code",
      "execution_count": 3,
      "metadata": {
        "id": "ipNW0e3ZNXXX",
        "colab": {
          "base_uri": "https://localhost:8080/"
        },
        "outputId": "05dde707-bcdb-4f93-eeac-5783c25f521d"
      },
      "outputs": [
        {
          "output_type": "stream",
          "name": "stdout",
          "text": [
            "Archive:  stacksample.zip\n",
            "  inflating: Answers.csv             \n",
            "  inflating: Questions.csv           \n",
            "  inflating: Tags.csv                \n"
          ]
        }
      ],
      "source": [
        "!unzip stacksample"
      ],
      "id": "ipNW0e3ZNXXX"
    },
    {
      "cell_type": "code",
      "execution_count": 4,
      "metadata": {
        "id": "N6XZgdAMTYRL"
      },
      "outputs": [],
      "source": [
        "data = pd.read_csv('Questions.csv', encoding='ISO-8859-1')\n",
        "tags_df = pd.read_csv('Tags.csv', encoding='ISO-8859-1')\n",
        "answers_df = pd.read_csv('Answers.csv', encoding='ISO-8859-1')"
      ],
      "id": "N6XZgdAMTYRL"
    },
    {
      "cell_type": "code",
      "execution_count": null,
      "metadata": {
        "colab": {
          "background_save": true
        },
        "id": "jgFeVHO3L5VR"
      },
      "outputs": [],
      "source": [
        "# # Clean the text data\n",
        "# def clean_text(text):\n",
        "#    text = re.sub(r\"<.*?>\", \"\", text)\n",
        "#    text = re.sub(r\"\\s+\", \" \", text)\n",
        "#    return text\n",
        "\n",
        "# data[\"Title\"] = data[\"Title\"].apply(clean_text)\n",
        "# data[\"Body\"] = data[\"Body\"].apply(clean_text)"
      ],
      "id": "jgFeVHO3L5VR"
    },
    {
      "cell_type": "code",
      "execution_count": 5,
      "metadata": {
        "id": "QllOuvS4ebhi"
      },
      "outputs": [],
      "source": [
        "data_tags = data.merge(tags_df, how='inner',left_on='Id',right_on='Id')"
      ],
      "id": "QllOuvS4ebhi"
    },
    {
      "cell_type": "code",
      "execution_count": 6,
      "metadata": {
        "id": "odrguswWebk7"
      },
      "outputs": [],
      "source": [
        "top_tags = tags_df['Tag'].value_counts().nlargest(10).index.tolist()"
      ],
      "id": "odrguswWebk7"
    },
    {
      "cell_type": "code",
      "execution_count": 7,
      "metadata": {
        "colab": {
          "base_uri": "https://localhost:8080/"
        },
        "id": "RNoN-nZDebpL",
        "outputId": "6c2eef52-f514-46dc-8363-f87c67667bbd"
      },
      "outputs": [
        {
          "output_type": "execute_result",
          "data": {
            "text/plain": [
              "['javascript',\n",
              " 'java',\n",
              " 'c#',\n",
              " 'php',\n",
              " 'android',\n",
              " 'jquery',\n",
              " 'python',\n",
              " 'html',\n",
              " 'c++',\n",
              " 'ios']"
            ]
          },
          "metadata": {},
          "execution_count": 7
        }
      ],
      "source": [
        "top_tags"
      ],
      "id": "RNoN-nZDebpL"
    },
    {
      "cell_type": "code",
      "execution_count": 8,
      "metadata": {
        "id": "FFa_5m3iebr9"
      },
      "outputs": [],
      "source": [
        "filtered_data = data_tags[data_tags['Tag'].isin(top_tags)]"
      ],
      "id": "FFa_5m3iebr9"
    },
    {
      "cell_type": "code",
      "execution_count": 9,
      "metadata": {
        "id": "SFof9M9vfoML"
      },
      "outputs": [],
      "source": [
        "#  Preprocess the text data\n",
        "def preprocess_text(text):\n",
        "    # Remove HTML tags\n",
        "    text = re.sub('<[^>]+>', '', text)\n",
        "    # Remove special characters and digits\n",
        "    text = re.sub('[^a-zA-Z]', ' ', text)\n",
        "    # Convert to lowercase\n",
        "    text = text.lower()\n",
        "    # Remove extra whitespaces\n",
        "    text = re.sub('\\s+', ' ', text).strip()\n",
        "    return text\n"
      ],
      "id": "SFof9M9vfoML"
    },
    {
      "cell_type": "code",
      "execution_count": 10,
      "metadata": {
        "colab": {
          "base_uri": "https://localhost:8080/"
        },
        "id": "D11YP5oyebve",
        "outputId": "0465651d-5433-4632-f802-2049205c0bf8"
      },
      "outputs": [
        {
          "output_type": "stream",
          "name": "stderr",
          "text": [
            "<ipython-input-10-0838d4b92558>:1: SettingWithCopyWarning: \n",
            "A value is trying to be set on a copy of a slice from a DataFrame.\n",
            "Try using .loc[row_indexer,col_indexer] = value instead\n",
            "\n",
            "See the caveats in the documentation: https://pandas.pydata.org/pandas-docs/stable/user_guide/indexing.html#returning-a-view-versus-a-copy\n",
            "  filtered_data['Title'] = filtered_data['Title'].apply(preprocess_text)\n",
            "<ipython-input-10-0838d4b92558>:2: SettingWithCopyWarning: \n",
            "A value is trying to be set on a copy of a slice from a DataFrame.\n",
            "Try using .loc[row_indexer,col_indexer] = value instead\n",
            "\n",
            "See the caveats in the documentation: https://pandas.pydata.org/pandas-docs/stable/user_guide/indexing.html#returning-a-view-versus-a-copy\n",
            "  filtered_data['Body'] = filtered_data['Body'].apply(preprocess_text)\n"
          ]
        }
      ],
      "source": [
        "filtered_data['Title'] = filtered_data['Title'].apply(preprocess_text)\n",
        "filtered_data['Body'] = filtered_data['Body'].apply(preprocess_text)"
      ],
      "id": "D11YP5oyebve"
    },
    {
      "cell_type": "code",
      "execution_count": 11,
      "metadata": {
        "id": "-UYKQA_kebyr"
      },
      "outputs": [],
      "source": [
        "# Split the data into train and validation sets\n",
        "X = filtered_data['Title'] + ' ' + filtered_data['Body']\n",
        "y = filtered_data['Tag']\n",
        "X_train, X_val, y_train, y_val = train_test_split(X, y, test_size=0.2, random_state=42)"
      ],
      "id": "-UYKQA_kebyr"
    },
    {
      "cell_type": "code",
      "execution_count": null,
      "metadata": {
        "colab": {
          "background_save": true
        },
        "id": "K3VIc0TBeb2C"
      },
      "outputs": [],
      "source": [
        "# Vectorize the text data\n",
        "# vectorizer = TfidfVectorizer(max_features=5000)\n",
        "# X_train_vec = vectorizer.fit_transform(X_train)\n",
        "# X_val_vec = vectorizer.transform(X_val)"
      ],
      "id": "K3VIc0TBeb2C"
    },
    {
      "cell_type": "code",
      "execution_count": 12,
      "metadata": {
        "id": "He7kZKO7eb4f"
      },
      "outputs": [],
      "source": [
        "# Transform tags into binary matrix representation\n",
        "mlb = MultiLabelBinarizer()\n",
        "y_train_bin = mlb.fit_transform(y_train.apply(lambda x: [x]))\n",
        "y_val_bin = mlb.transform(y_val.apply(lambda x: [x]))"
      ],
      "id": "He7kZKO7eb4f"
    },
    {
      "cell_type": "code",
      "execution_count": 13,
      "metadata": {
        "id": "ae84b03a"
      },
      "outputs": [],
      "source": [
        "tokenizer=Tokenizer()\n",
        "tokenizer.fit_on_texts(X_train)"
      ],
      "id": "ae84b03a"
    },
    {
      "cell_type": "code",
      "execution_count": 14,
      "metadata": {
        "id": "108bbf3c"
      },
      "outputs": [],
      "source": [
        "X_train_vec = tokenizer.texts_to_sequences(X_train)\n",
        "X_val_vec = tokenizer.texts_to_sequences(X_val)"
      ],
      "id": "108bbf3c"
    },
    {
      "cell_type": "code",
      "execution_count": null,
      "metadata": {
        "colab": {
          "background_save": true
        },
        "id": "9e4f21bd"
      },
      "outputs": [],
      "source": [
        "# mlb= MultiLabelBinarizer()\n",
        "# Y_train= mlb.fit_transform(X_train)['Tags'].apply(lambda x: x.split('|'))\n",
        "# Y_val=mib.transform(X_val['Tags'].apply(lambda x: x.split('|')))"
      ],
      "id": "9e4f21bd"
    },
    {
      "cell_type": "code",
      "execution_count": 18,
      "metadata": {
        "id": "8c6bda21"
      },
      "outputs": [],
      "source": [
        "vocab_size=len(tokenizer.word_index) + 1\n",
        "embedding_dim = 100"
      ],
      "id": "8c6bda21"
    },
    {
      "cell_type": "code",
      "execution_count": null,
      "metadata": {
        "id": "CFFdqkjsodH_"
      },
      "outputs": [],
      "source": [
        "input_length = 100\n",
        "X_train_vec = pad_sequences(X_train_vec , padding='post')\n",
        "X_val_vec = pad_sequences(X_val_vec, padding='post')"
      ],
      "id": "CFFdqkjsodH_"
    },
    {
      "cell_type": "code",
      "execution_count": null,
      "metadata": {
        "id": "db197bea"
      },
      "outputs": [],
      "source": [
        "model = Sequential()\n",
        "model.add(Embedding(vocab_size, embedding_dim, input_length=max_sequences_length))\n",
        "model.add(LSTM(128))\n",
        "model.add(Dense(len(top_tags), activation='sigmoid'))\n",
        "model.compile(loss='binary_crossentropy', optimizer='adam', metrics=['accuracy'])\n",
        "model.fit(X_train_vec, y_train_bin, epochs=10, batch_size=64)"
      ],
      "id": "db197bea"
    },
    {
      "cell_type": "code",
      "execution_count": null,
      "metadata": {
        "id": "5d7899c8"
      },
      "outputs": [],
      "source": [
        "y_pred = model.predict(X_val_vec)\n",
        "y_pred_labels = mlb.inverse_transform(y_pred.round())\n",
        "y_val_labels = mlb.inverse_transform(y_val_bin )"
      ],
      "id": "5d7899c8"
    },
    {
      "cell_type": "code",
      "execution_count": null,
      "metadata": {
        "id": "8c5fbd38"
      },
      "outputs": [],
      "source": [
        "accuracy = accuracy_score(y_val_labels, y_pred_labels)\n",
        "precision = precision_score(y_val_labels, y_pred_labels, average='micro')\n",
        "recall = recall_score(y_val_labels, y_preds)"
      ],
      "id": "8c5fbd38"
    },
    {
      "cell_type": "code",
      "execution_count": null,
      "metadata": {
        "id": "8ed803b4"
      },
      "outputs": [],
      "source": [],
      "id": "8ed803b4"
    },
    {
      "cell_type": "code",
      "execution_count": null,
      "metadata": {
        "id": "74447dd6"
      },
      "outputs": [],
      "source": [],
      "id": "74447dd6"
    },
    {
      "cell_type": "code",
      "execution_count": null,
      "metadata": {
        "id": "504259ea"
      },
      "outputs": [],
      "source": [],
      "id": "504259ea"
    }
  ],
  "metadata": {
    "colab": {
      "provenance": []
    },
    "kernelspec": {
      "display_name": "Python 3",
      "language": "python",
      "name": "python3"
    },
    "language_info": {
      "codemirror_mode": {
        "name": "ipython",
        "version": 3
      },
      "file_extension": ".py",
      "mimetype": "text/x-python",
      "name": "python",
      "nbconvert_exporter": "python",
      "pygments_lexer": "ipython3",
      "version": "3.8.8"
    }
  },
  "nbformat": 4,
  "nbformat_minor": 5
}