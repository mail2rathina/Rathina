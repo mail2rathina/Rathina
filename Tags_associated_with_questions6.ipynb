{
  "nbformat": 4,
  "nbformat_minor": 0,
  "metadata": {
    "colab": {
      "provenance": []
    },
    "kernelspec": {
      "name": "python3",
      "display_name": "Python 3"
    },
    "language_info": {
      "name": "python"
    }
  },
  "cells": [
    {
      "cell_type": "code",
      "execution_count": null,
      "metadata": {
        "id": "-g_tZvftLyuf"
      },
      "outputs": [],
      "source": [
        "import pandas as pd\n",
        "import numpy as np\n",
        "import re\n",
        "from sklearn.model_selection import train_test_split\n",
        "from sklearn.preprocessing import MultiLabelBinarizer\n",
        "from sklearn.feature_extraction.text import TfidfVectorizer\n",
        "# from sklearn.multiclass import OneVsRestClasssifier\n",
        "from sklearn.svm import LinearSVC\n",
        "from sklearn.metrics import classification_report\n"
      ]
    },
    {
      "cell_type": "code",
      "source": [
        "!wget https://www.dropbox.com/s/5721wcs2guuykzl/stacksample.zip"
      ],
      "metadata": {
        "colab": {
          "base_uri": "https://localhost:8080/"
        },
        "id": "lBLaJhZaL2hm",
        "outputId": "a6ec59a2-8d26-4571-bf1b-9de64b047d6a"
      },
      "execution_count": null,
      "outputs": [
        {
          "output_type": "stream",
          "name": "stdout",
          "text": [
            "--2023-07-01 06:34:15--  https://www.dropbox.com/s/5721wcs2guuykzl/stacksample.zip\n",
            "Resolving www.dropbox.com (www.dropbox.com)... 162.125.5.18, 2620:100:601d:18::a27d:512\n",
            "Connecting to www.dropbox.com (www.dropbox.com)|162.125.5.18|:443... connected.\n",
            "HTTP request sent, awaiting response... 302 Found\n",
            "Location: /s/raw/5721wcs2guuykzl/stacksample.zip [following]\n",
            "--2023-07-01 06:34:15--  https://www.dropbox.com/s/raw/5721wcs2guuykzl/stacksample.zip\n",
            "Reusing existing connection to www.dropbox.com:443.\n",
            "HTTP request sent, awaiting response... 302 Found\n",
            "Location: https://uc1c5d03509f38a6710d5cde02e7.dl.dropboxusercontent.com/cd/0/inline/B_BtQDiuO0D52FulxMZRcBo0Ky_zF1DxHhmajdVWH1xhMvmt6JHdM-JZe1u2uVAM2I45NHx6ODIErmjj6RqvCVQW-mx_hEzyamlq3lDZgMJrXcqxPfktACAEJRS5hdZ09pk5qNOUDBgYf5UG-MjEV-FDgj7VN-Tke8YyKcD6fqRt4A/file# [following]\n",
            "--2023-07-01 06:34:16--  https://uc1c5d03509f38a6710d5cde02e7.dl.dropboxusercontent.com/cd/0/inline/B_BtQDiuO0D52FulxMZRcBo0Ky_zF1DxHhmajdVWH1xhMvmt6JHdM-JZe1u2uVAM2I45NHx6ODIErmjj6RqvCVQW-mx_hEzyamlq3lDZgMJrXcqxPfktACAEJRS5hdZ09pk5qNOUDBgYf5UG-MjEV-FDgj7VN-Tke8YyKcD6fqRt4A/file\n",
            "Resolving uc1c5d03509f38a6710d5cde02e7.dl.dropboxusercontent.com (uc1c5d03509f38a6710d5cde02e7.dl.dropboxusercontent.com)... 162.125.5.15, 2620:100:601d:15::a27d:50f\n",
            "Connecting to uc1c5d03509f38a6710d5cde02e7.dl.dropboxusercontent.com (uc1c5d03509f38a6710d5cde02e7.dl.dropboxusercontent.com)|162.125.5.15|:443... connected.\n",
            "HTTP request sent, awaiting response... 302 Found\n",
            "Location: /cd/0/inline2/B_C9AhBplMdgQWTxDub9Bj4_pw69M3uNA8w3At4qHwLYc8As9SznSKG_86vFiukQo8T1teCpdPr7sZpRmpihIXq1-IG9sGWqpQXlX-ZNWdmq86tdqSmxRx2J2jNiFxEoARSYh93h5QZik_snaKdj-egVwWc0KSIj_WU04luwBikJEBjfwODlEvhC05HJN8ZGVpHsfcAAle9Oyymlqih7I6YQ4kgzqCkujLSjfyQTI5BLGFmZyX1L-qy3otuTOHyyER3SyMj1_LJxBFhak_eZVHsxd4TkgImc9PrzWjhc51sIj70VcuZdZq80GLJH7AyU96QzhprhksNRGkFAAvJWHffZ1yJ0_ta_0zH_aDcEigLjS1fAl6onDQocsA_PFubDxWagEkYH9Et9LmJji4uTuKOx0lid1biQ7lMfkYpvVJ5blg/file [following]\n",
            "--2023-07-01 06:34:16--  https://uc1c5d03509f38a6710d5cde02e7.dl.dropboxusercontent.com/cd/0/inline2/B_C9AhBplMdgQWTxDub9Bj4_pw69M3uNA8w3At4qHwLYc8As9SznSKG_86vFiukQo8T1teCpdPr7sZpRmpihIXq1-IG9sGWqpQXlX-ZNWdmq86tdqSmxRx2J2jNiFxEoARSYh93h5QZik_snaKdj-egVwWc0KSIj_WU04luwBikJEBjfwODlEvhC05HJN8ZGVpHsfcAAle9Oyymlqih7I6YQ4kgzqCkujLSjfyQTI5BLGFmZyX1L-qy3otuTOHyyER3SyMj1_LJxBFhak_eZVHsxd4TkgImc9PrzWjhc51sIj70VcuZdZq80GLJH7AyU96QzhprhksNRGkFAAvJWHffZ1yJ0_ta_0zH_aDcEigLjS1fAl6onDQocsA_PFubDxWagEkYH9Et9LmJji4uTuKOx0lid1biQ7lMfkYpvVJ5blg/file\n",
            "Reusing existing connection to uc1c5d03509f38a6710d5cde02e7.dl.dropboxusercontent.com:443.\n",
            "HTTP request sent, awaiting response... 200 OK\n",
            "Length: 1231288519 (1.1G) [application/zip]\n",
            "Saving to: ‘stacksample.zip’\n",
            "\n",
            "stacksample.zip     100%[===================>]   1.15G  48.4MB/s    in 15s     \n",
            "\n",
            "2023-07-01 06:34:32 (76.3 MB/s) - ‘stacksample.zip’ saved [1231288519/1231288519]\n",
            "\n"
          ]
        }
      ]
    },
    {
      "cell_type": "code",
      "source": [
        "!unzip stacksample"
      ],
      "metadata": {
        "colab": {
          "base_uri": "https://localhost:8080/"
        },
        "id": "p6OlS5XjL2kn",
        "outputId": "ea8df2ed-8a05-4111-ed56-d8d3c786f232"
      },
      "execution_count": null,
      "outputs": [
        {
          "output_type": "stream",
          "name": "stdout",
          "text": [
            "Archive:  stacksample.zip\n",
            "  inflating: Answers.csv             \n",
            "  inflating: Questions.csv           \n",
            "  inflating: Tags.csv                \n"
          ]
        }
      ]
    },
    {
      "cell_type": "code",
      "source": [
        "data = pd.read_csv('Questions.csv', encoding='ISO-8859-1')\n",
        "tags_df = pd.read_csv('Tags.csv', encoding='ISO-8859-1')\n",
        "answers_df = pd.read_csv('Answers.csv', encoding='ISO-8859-1')"
      ],
      "metadata": {
        "id": "VThVQyLfL2qN"
      },
      "execution_count": null,
      "outputs": []
    },
    {
      "cell_type": "code",
      "source": [
        "data_tags = data.merge(tags_df, how='inner',left_on='Id',right_on='Id')"
      ],
      "metadata": {
        "id": "rXjB4KBZL2s_"
      },
      "execution_count": null,
      "outputs": []
    },
    {
      "cell_type": "code",
      "source": [
        "top_tags = tags_df['Tag'].value_counts().nlargest(10).index.tolist()"
      ],
      "metadata": {
        "id": "9pXOCMoFL201"
      },
      "execution_count": null,
      "outputs": []
    },
    {
      "cell_type": "code",
      "source": [
        "top_tags"
      ],
      "metadata": {
        "colab": {
          "base_uri": "https://localhost:8080/"
        },
        "id": "3Ng_UXkaYygL",
        "outputId": "b7e06348-1be4-49d6-d5a7-d30a8532c8c3"
      },
      "execution_count": null,
      "outputs": [
        {
          "output_type": "execute_result",
          "data": {
            "text/plain": [
              "['javascript',\n",
              " 'java',\n",
              " 'c#',\n",
              " 'php',\n",
              " 'android',\n",
              " 'jquery',\n",
              " 'python',\n",
              " 'html',\n",
              " 'c++',\n",
              " 'ios']"
            ]
          },
          "metadata": {},
          "execution_count": 39
        }
      ]
    },
    {
      "cell_type": "code",
      "source": [
        "filtered_data = data_tags[data_tags['Tag'].isin(top_tags)]"
      ],
      "metadata": {
        "id": "DXh-QtKfL24a"
      },
      "execution_count": null,
      "outputs": []
    },
    {
      "cell_type": "code",
      "source": [
        "#  Preprocess the text data\n",
        "def preprocess_text(text):\n",
        "    # Remove HTML tags\n",
        "    text = re.sub('<[^>]+>', '', text)\n",
        "    # Remove special characters and digits\n",
        "    text = re.sub('[^a-zA-Z]', ' ', text)\n",
        "    # Convert to lowercase\n",
        "    text = text.lower()\n",
        "    # Remove extra whitespaces\n",
        "    text = re.sub('\\s+', ' ', text).strip()\n",
        "    return text\n"
      ],
      "metadata": {
        "id": "fHSUiJ7JL2-y"
      },
      "execution_count": null,
      "outputs": []
    },
    {
      "cell_type": "code",
      "source": [
        "\n",
        "filtered_data['Title'] = filtered_data['Title'].apply(preprocess_text)\n",
        "filtered_data['Body'] = filtered_data['Body'].apply(preprocess_text)"
      ],
      "metadata": {
        "colab": {
          "base_uri": "https://localhost:8080/"
        },
        "id": "Ecr4SKgjL3Cl",
        "outputId": "1c575f05-be62-46c0-cbce-7831c43e3a22"
      },
      "execution_count": null,
      "outputs": [
        {
          "output_type": "stream",
          "name": "stderr",
          "text": [
            "<ipython-input-23-0838d4b92558>:1: SettingWithCopyWarning: \n",
            "A value is trying to be set on a copy of a slice from a DataFrame.\n",
            "Try using .loc[row_indexer,col_indexer] = value instead\n",
            "\n",
            "See the caveats in the documentation: https://pandas.pydata.org/pandas-docs/stable/user_guide/indexing.html#returning-a-view-versus-a-copy\n",
            "  filtered_data['Title'] = filtered_data['Title'].apply(preprocess_text)\n",
            "<ipython-input-23-0838d4b92558>:2: SettingWithCopyWarning: \n",
            "A value is trying to be set on a copy of a slice from a DataFrame.\n",
            "Try using .loc[row_indexer,col_indexer] = value instead\n",
            "\n",
            "See the caveats in the documentation: https://pandas.pydata.org/pandas-docs/stable/user_guide/indexing.html#returning-a-view-versus-a-copy\n",
            "  filtered_data['Body'] = filtered_data['Body'].apply(preprocess_text)\n"
          ]
        }
      ]
    },
    {
      "cell_type": "code",
      "source": [
        "# Split the data into train and validation sets\n",
        "X = filtered_data['Title'] + ' ' + filtered_data['Body']\n",
        "y = filtered_data['Tag']\n",
        "X_train, X_val, y_train, y_val = train_test_split(X, y, test_size=0.2, random_state=42)"
      ],
      "metadata": {
        "id": "UVgHDIggSJR6"
      },
      "execution_count": null,
      "outputs": []
    },
    {
      "cell_type": "code",
      "source": [
        "# Vectorize the text data\n",
        "vectorizer = TfidfVectorizer(max_features=5000)\n",
        "X_train_vec = vectorizer.fit_transform(X_train)\n",
        "X_val_vec = vectorizer.transform(X_val)"
      ],
      "metadata": {
        "id": "u4vgkT1_SJUX"
      },
      "execution_count": null,
      "outputs": []
    },
    {
      "cell_type": "code",
      "source": [
        "# Transform tags into binary matrix representation\n",
        "mlb = MultiLabelBinarizer()\n",
        "y_train_bin = mlb.fit_transform(y_train.apply(lambda x: [x]))\n",
        "y_val_bin = mlb.transform(y_val.apply(lambda x: [x]))"
      ],
      "metadata": {
        "id": "L8PZT3OUSJXt"
      },
      "execution_count": null,
      "outputs": []
    },
    {
      "cell_type": "code",
      "source": [
        "from sklearn.multiclass import OneVsRestClassifier"
      ],
      "metadata": {
        "id": "0b1Ubq21Udq3"
      },
      "execution_count": null,
      "outputs": []
    },
    {
      "cell_type": "code",
      "source": [
        "# Build the model\n",
        "classifier = OneVsRestClassifier(LinearSVC(random_state=42))\n",
        "classifier.fit(X_train_vec, y_train_bin)"
      ],
      "metadata": {
        "colab": {
          "base_uri": "https://localhost:8080/",
          "height": 141
        },
        "id": "TfTnLuMeSJkl",
        "outputId": "73d53e82-9278-468a-ebc4-5708b578cbe6"
      },
      "execution_count": null,
      "outputs": [
        {
          "output_type": "execute_result",
          "data": {
            "text/plain": [
              "OneVsRestClassifier(estimator=LinearSVC(random_state=42))"
            ],
            "text/html": [
              "<style>#sk-container-id-1 {color: black;background-color: white;}#sk-container-id-1 pre{padding: 0;}#sk-container-id-1 div.sk-toggleable {background-color: white;}#sk-container-id-1 label.sk-toggleable__label {cursor: pointer;display: block;width: 100%;margin-bottom: 0;padding: 0.3em;box-sizing: border-box;text-align: center;}#sk-container-id-1 label.sk-toggleable__label-arrow:before {content: \"▸\";float: left;margin-right: 0.25em;color: #696969;}#sk-container-id-1 label.sk-toggleable__label-arrow:hover:before {color: black;}#sk-container-id-1 div.sk-estimator:hover label.sk-toggleable__label-arrow:before {color: black;}#sk-container-id-1 div.sk-toggleable__content {max-height: 0;max-width: 0;overflow: hidden;text-align: left;background-color: #f0f8ff;}#sk-container-id-1 div.sk-toggleable__content pre {margin: 0.2em;color: black;border-radius: 0.25em;background-color: #f0f8ff;}#sk-container-id-1 input.sk-toggleable__control:checked~div.sk-toggleable__content {max-height: 200px;max-width: 100%;overflow: auto;}#sk-container-id-1 input.sk-toggleable__control:checked~label.sk-toggleable__label-arrow:before {content: \"▾\";}#sk-container-id-1 div.sk-estimator input.sk-toggleable__control:checked~label.sk-toggleable__label {background-color: #d4ebff;}#sk-container-id-1 div.sk-label input.sk-toggleable__control:checked~label.sk-toggleable__label {background-color: #d4ebff;}#sk-container-id-1 input.sk-hidden--visually {border: 0;clip: rect(1px 1px 1px 1px);clip: rect(1px, 1px, 1px, 1px);height: 1px;margin: -1px;overflow: hidden;padding: 0;position: absolute;width: 1px;}#sk-container-id-1 div.sk-estimator {font-family: monospace;background-color: #f0f8ff;border: 1px dotted black;border-radius: 0.25em;box-sizing: border-box;margin-bottom: 0.5em;}#sk-container-id-1 div.sk-estimator:hover {background-color: #d4ebff;}#sk-container-id-1 div.sk-parallel-item::after {content: \"\";width: 100%;border-bottom: 1px solid gray;flex-grow: 1;}#sk-container-id-1 div.sk-label:hover label.sk-toggleable__label {background-color: #d4ebff;}#sk-container-id-1 div.sk-serial::before {content: \"\";position: absolute;border-left: 1px solid gray;box-sizing: border-box;top: 0;bottom: 0;left: 50%;z-index: 0;}#sk-container-id-1 div.sk-serial {display: flex;flex-direction: column;align-items: center;background-color: white;padding-right: 0.2em;padding-left: 0.2em;position: relative;}#sk-container-id-1 div.sk-item {position: relative;z-index: 1;}#sk-container-id-1 div.sk-parallel {display: flex;align-items: stretch;justify-content: center;background-color: white;position: relative;}#sk-container-id-1 div.sk-item::before, #sk-container-id-1 div.sk-parallel-item::before {content: \"\";position: absolute;border-left: 1px solid gray;box-sizing: border-box;top: 0;bottom: 0;left: 50%;z-index: -1;}#sk-container-id-1 div.sk-parallel-item {display: flex;flex-direction: column;z-index: 1;position: relative;background-color: white;}#sk-container-id-1 div.sk-parallel-item:first-child::after {align-self: flex-end;width: 50%;}#sk-container-id-1 div.sk-parallel-item:last-child::after {align-self: flex-start;width: 50%;}#sk-container-id-1 div.sk-parallel-item:only-child::after {width: 0;}#sk-container-id-1 div.sk-dashed-wrapped {border: 1px dashed gray;margin: 0 0.4em 0.5em 0.4em;box-sizing: border-box;padding-bottom: 0.4em;background-color: white;}#sk-container-id-1 div.sk-label label {font-family: monospace;font-weight: bold;display: inline-block;line-height: 1.2em;}#sk-container-id-1 div.sk-label-container {text-align: center;}#sk-container-id-1 div.sk-container {/* jupyter's `normalize.less` sets `[hidden] { display: none; }` but bootstrap.min.css set `[hidden] { display: none !important; }` so we also need the `!important` here to be able to override the default hidden behavior on the sphinx rendered scikit-learn.org. See: https://github.com/scikit-learn/scikit-learn/issues/21755 */display: inline-block !important;position: relative;}#sk-container-id-1 div.sk-text-repr-fallback {display: none;}</style><div id=\"sk-container-id-1\" class=\"sk-top-container\"><div class=\"sk-text-repr-fallback\"><pre>OneVsRestClassifier(estimator=LinearSVC(random_state=42))</pre><b>In a Jupyter environment, please rerun this cell to show the HTML representation or trust the notebook. <br />On GitHub, the HTML representation is unable to render, please try loading this page with nbviewer.org.</b></div><div class=\"sk-container\" hidden><div class=\"sk-item sk-dashed-wrapped\"><div class=\"sk-label-container\"><div class=\"sk-label sk-toggleable\"><input class=\"sk-toggleable__control sk-hidden--visually\" id=\"sk-estimator-id-1\" type=\"checkbox\" ><label for=\"sk-estimator-id-1\" class=\"sk-toggleable__label sk-toggleable__label-arrow\">OneVsRestClassifier</label><div class=\"sk-toggleable__content\"><pre>OneVsRestClassifier(estimator=LinearSVC(random_state=42))</pre></div></div></div><div class=\"sk-parallel\"><div class=\"sk-parallel-item\"><div class=\"sk-item\"><div class=\"sk-label-container\"><div class=\"sk-label sk-toggleable\"><input class=\"sk-toggleable__control sk-hidden--visually\" id=\"sk-estimator-id-2\" type=\"checkbox\" ><label for=\"sk-estimator-id-2\" class=\"sk-toggleable__label sk-toggleable__label-arrow\">estimator: LinearSVC</label><div class=\"sk-toggleable__content\"><pre>LinearSVC(random_state=42)</pre></div></div></div><div class=\"sk-serial\"><div class=\"sk-item\"><div class=\"sk-estimator sk-toggleable\"><input class=\"sk-toggleable__control sk-hidden--visually\" id=\"sk-estimator-id-3\" type=\"checkbox\" ><label for=\"sk-estimator-id-3\" class=\"sk-toggleable__label sk-toggleable__label-arrow\">LinearSVC</label><div class=\"sk-toggleable__content\"><pre>LinearSVC(random_state=42)</pre></div></div></div></div></div></div></div></div></div></div>"
            ]
          },
          "metadata": {},
          "execution_count": 28
        }
      ]
    },
    {
      "cell_type": "code",
      "source": [
        "import pandas as pd\n",
        "import numpy as np\n",
        "import re\n",
        "from sklearn.model_selection import train_test_split\n",
        "from sklearn.preprocessing import MultiLabelBinarizer\n",
        "from sklearn.metrics import accuracy_score,precision_score,recall_score,f1_score\n",
        "from keras.models import Sequential\n",
        "from keras.layers import LSTM,Dense,Embedding\n",
        "from keras.preprocessing.text import Tokenizer\n",
        "from tensorflow.keras.preprocessing.sequence import pad_sequences\n",
        "from keras.utils import to_categorical"
      ],
      "metadata": {
        "id": "iCdJoTB6aBNi"
      },
      "execution_count": null,
      "outputs": []
    },
    {
      "cell_type": "code",
      "source": [
        "# Make predictions on the validation set\n",
        "y_pred = classifier.predict(X_val_vec)\n",
        "y_pred_labels = mlb.inverse_transform(y_pred)"
      ],
      "metadata": {
        "id": "42Z7LvDZSuUE"
      },
      "execution_count": null,
      "outputs": []
    },
    {
      "cell_type": "code",
      "source": [
        "# Evaluate the model\n",
        "print(classification_report(y_val_bin, y_pred, target_names=top_tags))\n"
      ],
      "metadata": {
        "colab": {
          "base_uri": "https://localhost:8080/"
        },
        "id": "ulg2ZTW3Sucw",
        "outputId": "076d85cb-4740-4e37-fa36-fec87a87c2d7"
      },
      "execution_count": null,
      "outputs": [
        {
          "output_type": "stream",
          "name": "stdout",
          "text": [
            "              precision    recall  f1-score   support\n",
            "\n",
            "  javascript       0.83      0.74      0.79     18101\n",
            "        java       0.90      0.74      0.81     20459\n",
            "          c#       0.91      0.73      0.81      9342\n",
            "         php       0.67      0.23      0.34     11668\n",
            "     android       0.94      0.83      0.88      9401\n",
            "      jquery       0.89      0.69      0.78     22817\n",
            "      python       0.70      0.43      0.53     24900\n",
            "        html       0.59      0.29      0.39     15796\n",
            "         c++       0.84      0.72      0.78     19778\n",
            "         ios       0.95      0.85      0.90     13086\n",
            "\n",
            "   micro avg       0.84      0.62      0.71    165348\n",
            "   macro avg       0.82      0.63      0.70    165348\n",
            "weighted avg       0.81      0.62      0.70    165348\n",
            " samples avg       0.61      0.62      0.61    165348\n",
            "\n"
          ]
        },
        {
          "output_type": "stream",
          "name": "stderr",
          "text": [
            "/usr/local/lib/python3.10/dist-packages/sklearn/metrics/_classification.py:1344: UndefinedMetricWarning: Precision and F-score are ill-defined and being set to 0.0 in samples with no predicted labels. Use `zero_division` parameter to control this behavior.\n",
            "  _warn_prf(average, modifier, msg_start, len(result))\n"
          ]
        }
      ]
    },
    {
      "cell_type": "code",
      "source": [
        "\n",
        "from sklearn.metrics import accuracy_score"
      ],
      "metadata": {
        "id": "TLtrRU1LVwsj"
      },
      "execution_count": null,
      "outputs": []
    },
    {
      "cell_type": "code",
      "source": [
        "y_pred = classifier.predict(X_val_vec)\n",
        "y_pred_labels = mlb.inverse_transform(y_pred)\n",
        "y_val_bin = mlb.transform(y_val.apply(lambda x: [x]))"
      ],
      "metadata": {
        "id": "z7IY2KN9WFyK"
      },
      "execution_count": null,
      "outputs": []
    },
    {
      "cell_type": "code",
      "source": [
        "accuracy = accuracy_score(y_val_bin,y_pred)"
      ],
      "metadata": {
        "id": "EiXYoRoOWF49"
      },
      "execution_count": null,
      "outputs": []
    },
    {
      "cell_type": "code",
      "source": [
        "accuracy"
      ],
      "metadata": {
        "colab": {
          "base_uri": "https://localhost:8080/"
        },
        "id": "50sI1jogWF8X",
        "outputId": "6a0fd528-d585-4ce2-cc9f-672502edc4e3"
      },
      "execution_count": null,
      "outputs": [
        {
          "output_type": "execute_result",
          "data": {
            "text/plain": [
              "0.6041863221810968"
            ]
          },
          "metadata": {},
          "execution_count": 36
        }
      ]
    },
    {
      "cell_type": "code",
      "source": [
        "# Preprocess input text\n",
        "input_text = preprocess_text(\" Are there any really good tutorials explain of python.\")\n",
        "\n",
        "# Vectorize input text\n",
        "input_vec = vectorizer.transform([input_text])\n",
        "\n",
        "# Make predictions\n",
        "pred_vec = classifier.predict(input_vec)\n",
        "\n",
        "# Convert predictions to tag labels\n",
        "pred_labels = mlb.inverse_transform(pred_vec)\n",
        "\n",
        "# Print predicted tags\n",
        "print(\"Predicted Tags:\", pred_labels)"
      ],
      "metadata": {
        "colab": {
          "base_uri": "https://localhost:8080/"
        },
        "id": "9IjzqeMKWF_l",
        "outputId": "558dd984-e31a-478c-ad96-b8603558415f"
      },
      "execution_count": null,
      "outputs": [
        {
          "output_type": "stream",
          "name": "stdout",
          "text": [
            "Predicted Tags: [('python',)]\n"
          ]
        }
      ]
    }
  ]
}