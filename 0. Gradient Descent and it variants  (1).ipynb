{
 "cells": [
  {
   "cell_type": "code",
   "execution_count": 1,
   "metadata": {},
   "outputs": [],
   "source": [
    "import numpy as np\n",
    "%matplotlib inline\n",
    "from sklearn.linear_model import LinearRegression\n",
    "import pandas as pd"
   ]
  },
  {
   "cell_type": "code",
   "execution_count": 2,
   "metadata": {},
   "outputs": [],
   "source": [
    "x1=np.random.randint(1,30,200000)\n",
    "x2=np.random.randint(1,30,200000)\n",
    "\n",
    "y=4+2*x1+3*x2+3*np.random.random(200000)"
   ]
  },
  {
   "cell_type": "code",
   "execution_count": 3,
   "metadata": {},
   "outputs": [],
   "source": [
    "w=np.random.random(3)"
   ]
  },
  {
   "cell_type": "code",
   "execution_count": 4,
   "metadata": {},
   "outputs": [],
   "source": [
    "x=pd.DataFrame({'const':np.ones(200000),'x1':x1,'x2':x2})"
   ]
  },
  {
   "cell_type": "markdown",
   "metadata": {},
   "source": [
    "## Estimated paramter values from sklearn"
   ]
  },
  {
   "cell_type": "code",
   "execution_count": 5,
   "metadata": {},
   "outputs": [
    {
     "data": {
      "text/plain": [
       "LinearRegression(copy_X=True, fit_intercept=True, n_jobs=None,\n",
       "         normalize=False)"
      ]
     },
     "execution_count": 5,
     "metadata": {},
     "output_type": "execute_result"
    }
   ],
   "source": [
    "lr=LinearRegression()\n",
    "lr.fit(x.iloc[:,1:],y)"
   ]
  },
  {
   "cell_type": "code",
   "execution_count": 6,
   "metadata": {},
   "outputs": [
    {
     "data": {
      "text/plain": [
       "[5.502064684880494, 1.9996705489877051, 3.000044598125013]"
      ]
     },
     "execution_count": 6,
     "metadata": {},
     "output_type": "execute_result"
    }
   ],
   "source": [
    "w_sklearn=[lr.intercept_]+list(lr.coef_)\n",
    "w_sklearn"
   ]
  },
  {
   "cell_type": "markdown",
   "metadata": {},
   "source": [
    "## Paramter Estimation with Gradient Descent"
   ]
  },
  {
   "cell_type": "code",
   "execution_count": 8,
   "metadata": {},
   "outputs": [],
   "source": [
    "def mypred(features,weights):\n",
    "    \n",
    "    preds=np.dot(features,weights)\n",
    "    return(preds)"
   ]
  },
  {
   "cell_type": "code",
   "execution_count": 10,
   "metadata": {},
   "outputs": [
    {
     "data": {
      "text/plain": [
       "(200000,)"
      ]
     },
     "execution_count": 10,
     "metadata": {},
     "output_type": "execute_result"
    }
   ],
   "source": [
    "mypred(x,w).shape"
   ]
  },
  {
   "cell_type": "code",
   "execution_count": 11,
   "metadata": {},
   "outputs": [],
   "source": [
    "def myerror(target,features,weights):\n",
    "    \n",
    "    preds=mypred(features,weights)\n",
    "    errors=target-preds\n",
    "    return(errors)"
   ]
  },
  {
   "cell_type": "code",
   "execution_count": 12,
   "metadata": {},
   "outputs": [
    {
     "data": {
      "text/plain": [
       "array([79.11668087, 67.64975801, 54.32772175, ..., 96.10577668,\n",
       "       87.51436746, 34.63013683])"
      ]
     },
     "execution_count": 12,
     "metadata": {},
     "output_type": "execute_result"
    }
   ],
   "source": [
    "myerror(y,x,w)"
   ]
  },
  {
   "cell_type": "code",
   "execution_count": 13,
   "metadata": {},
   "outputs": [],
   "source": [
    "def mycost(target,features,weights):\n",
    "    \n",
    "    errors=myerror(target,features,weights)\n",
    "    cost=np.dot(errors.T,errors)\n",
    "    return(cost)"
   ]
  },
  {
   "cell_type": "code",
   "execution_count": 14,
   "metadata": {},
   "outputs": [
    {
     "data": {
      "text/plain": [
       "933663126.4426987"
      ]
     },
     "execution_count": 14,
     "metadata": {},
     "output_type": "execute_result"
    }
   ],
   "source": [
    "mycost(y,x,w)"
   ]
  },
  {
   "cell_type": "code",
   "execution_count": 15,
   "metadata": {},
   "outputs": [],
   "source": [
    "def gradient(target,features,weights):\n",
    "    \n",
    "    errors=myerror(target,features,weights)\n",
    "    grad=-np.dot(features.T,errors)/features.shape[0]\n",
    "    return(grad)"
   ]
  },
  {
   "cell_type": "code",
   "execution_count": 16,
   "metadata": {},
   "outputs": [
    {
     "data": {
      "text/plain": [
       "array([  -64.09478381, -1079.59939984, -1123.77478644])"
      ]
     },
     "execution_count": 16,
     "metadata": {},
     "output_type": "execute_result"
    }
   ],
   "source": [
    "gradient(y,x,w)"
   ]
  },
  {
   "cell_type": "code",
   "execution_count": 17,
   "metadata": {},
   "outputs": [],
   "source": [
    "def my_lr_gd(target,features,learning_rate,num_steps):\n",
    "    \n",
    "    weights=np.random.random(features.shape[1])\n",
    "    cost=[]\n",
    "    for i in range(num_steps):\n",
    "        \n",
    "        weights-=learning_rate*gradient(target,features,weights)\n",
    "        \n",
    "        \n",
    "        cost.append(mycost(target,features,weights))\n",
    "    return(cost,weights)"
   ]
  },
  {
   "cell_type": "code",
   "execution_count": 21,
   "metadata": {},
   "outputs": [],
   "source": [
    "cost_gd,w_gd=my_lr_gd(y,x,.001,1000)"
   ]
  },
  {
   "cell_type": "code",
   "execution_count": 22,
   "metadata": {},
   "outputs": [
    {
     "data": {
      "text/plain": [
       "array([1.50659621, 2.11469024, 3.1151623 ])"
      ]
     },
     "execution_count": 22,
     "metadata": {},
     "output_type": "execute_result"
    }
   ],
   "source": [
    "w_gd"
   ]
  },
  {
   "cell_type": "code",
   "execution_count": 24,
   "metadata": {},
   "outputs": [
    {
     "data": {
      "text/plain": [
       "array([3.65198363, 0.9456092 , 0.963046  ])"
      ]
     },
     "execution_count": 24,
     "metadata": {},
     "output_type": "execute_result"
    }
   ],
   "source": [
    "w_sklearn/w_gd"
   ]
  },
  {
   "cell_type": "code",
   "execution_count": 25,
   "metadata": {},
   "outputs": [
    {
     "data": {
      "text/plain": [
       "<matplotlib.axes._subplots.AxesSubplot at 0x1a26dd0d68>"
      ]
     },
     "execution_count": 25,
     "metadata": {},
     "output_type": "execute_result"
    },
    {
     "data": {
      "image/png": "[encoded data removed]",
      "text/plain": [
       "<Figure size 432x288 with 1 Axes>"
      ]
     },
     "metadata": {
      "needs_background": "light"
     },
     "output_type": "display_data"
    }
   ],
   "source": [
    "np.log(pd.DataFrame({'cost_gd':cost_gd})).plot()"
   ]
  },
  {
   "cell_type": "code",
   "execution_count": 26,
   "metadata": {},
   "outputs": [],
   "source": [
    "def my_lr_sgd(target,features,learning_rate,num_steps):\n",
    "    cost=[]\n",
    "    weights=np.random.random(features.shape[1])\n",
    "    \n",
    "    for i in np.arange(num_steps):\n",
    "        rand_ind=np.random.choice(range(features.shape[0]),10)\n",
    "        target_sub=target[rand_ind]\n",
    "        features_sub=features.iloc[rand_ind,:]\n",
    "        \n",
    "        weights -= learning_rate*gradient(target_sub,features_sub,weights)\n",
    "        \n",
    "        cost.append(mycost(target,features,weights))\n",
    "            \n",
    "    return(cost,weights)"
   ]
  },
  {
   "cell_type": "code",
   "execution_count": 27,
   "metadata": {},
   "outputs": [],
   "source": [
    "cost_sgd,w_sgd=my_lr_sgd(y,x,.001,1000)"
   ]
  },
  {
   "cell_type": "code",
   "execution_count": 28,
   "metadata": {},
   "outputs": [
    {
     "data": {
      "text/plain": [
       "array([1.60711601, 2.11436512, 3.11102901])"
      ]
     },
     "execution_count": 28,
     "metadata": {},
     "output_type": "execute_result"
    }
   ],
   "source": [
    "w_sgd"
   ]
  },
  {
   "cell_type": "code",
   "execution_count": 29,
   "metadata": {},
   "outputs": [
    {
     "data": {
      "text/plain": [
       "array([3.4235641 , 0.94575461, 0.9643255 ])"
      ]
     },
     "execution_count": 29,
     "metadata": {},
     "output_type": "execute_result"
    }
   ],
   "source": [
    "w_sklearn/w_sgd"
   ]
  },
  {
   "cell_type": "code",
   "execution_count": 30,
   "metadata": {},
   "outputs": [
    {
     "data": {
      "text/plain": [
       "<matplotlib.axes._subplots.AxesSubplot at 0x1a277ec160>"
      ]
     },
     "execution_count": 30,
     "metadata": {},
     "output_type": "execute_result"
    },
    {
     "data": {
      "image/png": "[encoded data removed]",
      "text/plain": [
       "<Figure size 432x288 with 1 Axes>"
      ]
     },
     "metadata": {
      "needs_background": "light"
     },
     "output_type": "display_data"
    }
   ],
   "source": [
    "np.log(pd.DataFrame({'cost_gd':np.log(cost_gd),'cost_sgd':np.log(cost_sgd)})).plot()"
   ]
  },
  {
   "cell_type": "code",
   "execution_count": 31,
   "metadata": {},
   "outputs": [],
   "source": [
    "def my_lr_mom(target,features,learning_rate,num_steps):\n",
    "    cost=[]\n",
    "    \n",
    "    weights=np.random.random(features.shape[1])\n",
    "    \n",
    "    vw=np.zeros(features.shape[1])\n",
    "    beta=0.9\n",
    "    \n",
    "    for i in np.arange(num_steps):\n",
    "        rand_ind=np.random.choice(range(features.shape[0]),10)\n",
    "        target_sub=target[rand_ind]\n",
    "        features_sub=features.iloc[rand_ind,:]\n",
    "        \n",
    "        vw=beta*vw+(1-beta)*gradient(target_sub,features_sub,weights)\n",
    "        \n",
    "        vw_a=vw/(1-beta**(i+1))\n",
    "        \n",
    "        weights -= learning_rate*vw_a\n",
    "        cost.append(mycost(target,features,weights))\n",
    "            \n",
    "    return(cost,weights)"
   ]
  },
  {
   "cell_type": "code",
   "execution_count": 32,
   "metadata": {},
   "outputs": [],
   "source": [
    "cost_mom,w_mom=my_lr_mom(y,x,.01,1000)"
   ]
  },
  {
   "cell_type": "code",
   "execution_count": 33,
   "metadata": {},
   "outputs": [
    {
     "data": {
      "text/plain": [
       "array([3.5294127 , 2.05170695, 3.08243469])"
      ]
     },
     "execution_count": 33,
     "metadata": {},
     "output_type": "execute_result"
    }
   ],
   "source": [
    "w_mom"
   ]
  },
  {
   "cell_type": "code",
   "execution_count": 34,
   "metadata": {},
   "outputs": [
    {
     "data": {
      "text/plain": [
       "array([1.55891791, 0.97463751, 0.9732711 ])"
      ]
     },
     "execution_count": 34,
     "metadata": {},
     "output_type": "execute_result"
    }
   ],
   "source": [
    "w_sklearn/w_mom"
   ]
  },
  {
   "cell_type": "code",
   "execution_count": 35,
   "metadata": {},
   "outputs": [
    {
     "data": {
      "text/plain": [
       "<matplotlib.axes._subplots.AxesSubplot at 0x1a278df828>"
      ]
     },
     "execution_count": 35,
     "metadata": {},
     "output_type": "execute_result"
    },
    {
     "data": {
      "image/png": "[encoded data removed]",
      "text/plain": [
       "<Figure size 432x288 with 1 Axes>"
      ]
     },
     "metadata": {
      "needs_background": "light"
     },
     "output_type": "display_data"
    }
   ],
   "source": [
    "np.log(pd.DataFrame({'cost_gd':cost_gd,'cost_sgd':cost_sgd,'cost_mom':cost_mom})).plot()"
   ]
  },
  {
   "cell_type": "code",
   "execution_count": 36,
   "metadata": {},
   "outputs": [],
   "source": [
    "def my_lr_rms(target,features,learning_rate,num_steps):\n",
    "    cost=[]\n",
    "    \n",
    "    weights=np.random.random(features.shape[1])\n",
    "    \n",
    "    sw=np.zeros(features.shape[1])\n",
    "    \n",
    "    beta=0.99\n",
    "    \n",
    "    \n",
    "    for i in np.arange(num_steps):\n",
    "        rand_ind=np.random.choice(range(features.shape[0]),10)\n",
    "        target_sub=target[rand_ind]\n",
    "        features_sub=features.iloc[rand_ind,:]\n",
    "        \n",
    "        gd=gradient(target_sub,features_sub,weights)\n",
    "        sw=beta*sw+(1-beta)*(gd**2)\n",
    "        \n",
    "        sw_a=sw/(1-beta**(i+1))\n",
    "        \n",
    "        weights -= learning_rate*(gd/(np.sqrt(sw_a)+1e-15))\n",
    "        cost.append(mycost(target,features,weights))\n",
    "            \n",
    "    return(cost,weights)"
   ]
  },
  {
   "cell_type": "code",
   "execution_count": 37,
   "metadata": {},
   "outputs": [],
   "source": [
    "cost_rms,w_rms=my_lr_rms(y,x,.1,1000)"
   ]
  },
  {
   "cell_type": "code",
   "execution_count": 38,
   "metadata": {},
   "outputs": [
    {
     "data": {
      "text/plain": [
       "array([5.2822809 , 2.00415401, 2.9983603 ])"
      ]
     },
     "execution_count": 38,
     "metadata": {},
     "output_type": "execute_result"
    }
   ],
   "source": [
    "w_rms"
   ]
  },
  {
   "cell_type": "code",
   "execution_count": 39,
   "metadata": {},
   "outputs": [
    {
     "data": {
      "text/plain": [
       "array([1.04160774, 0.99776292, 1.00056174])"
      ]
     },
     "execution_count": 39,
     "metadata": {},
     "output_type": "execute_result"
    }
   ],
   "source": [
    "w_sklearn/w_rms"
   ]
  },
  {
   "cell_type": "code",
   "execution_count": 40,
   "metadata": {},
   "outputs": [
    {
     "data": {
      "text/plain": [
       "<matplotlib.axes._subplots.AxesSubplot at 0x1a27969198>"
      ]
     },
     "execution_count": 40,
     "metadata": {},
     "output_type": "execute_result"
    },
    {
     "data": {
      "image/png": "[encoded data removed]",
      "text/plain": [
       "<Figure size 432x288 with 1 Axes>"
      ]
     },
     "metadata": {
      "needs_background": "light"
     },
     "output_type": "display_data"
    }
   ],
   "source": [
    "np.log(pd.DataFrame({'cost_gd':cost_gd,'cost_sgd':cost_sgd,'cost_mom':cost_mom,'cost_rms':cost_rms})).plot()"
   ]
  },
  {
   "cell_type": "code",
   "execution_count": 41,
   "metadata": {},
   "outputs": [],
   "source": [
    "def my_lr_adam(target,features,learning_rate,num_steps):\n",
    "    cost=[]\n",
    "    \n",
    "    weights=np.random.random(features.shape[1])\n",
    "    sw=np.zeros(features.shape[1])\n",
    "    vw=np.zeros(features.shape[1])\n",
    "    beta1=0.9\n",
    "    beta2=0.99\n",
    "    \n",
    "    \n",
    "    for i in np.arange(num_steps):\n",
    "        rand_ind=np.random.choice(range(features.shape[0]),10)\n",
    "        target_sub=target[rand_ind]\n",
    "        features_sub=features.iloc[rand_ind,:]\n",
    "        \n",
    "        gd=gradient(target_sub,features_sub,weights)\n",
    "        vw=beta1*vw+(1-beta1)*gd\n",
    "        sw=beta2*sw+(1-beta2)*(gd**2)\n",
    "        \n",
    "        vw_a=vw/(1-beta1**(i+1))\n",
    "        sw_a=sw/(1-beta2**(i+1))\n",
    "        \n",
    "        weights -= learning_rate*(vw_a/(np.sqrt(sw_a)+1e-15))\n",
    "        \n",
    "        cost.append(mycost(target,features,weights))\n",
    "            \n",
    "    return(cost,weights)"
   ]
  },
  {
   "cell_type": "code",
   "execution_count": 42,
   "metadata": {},
   "outputs": [],
   "source": [
    "cost_adam,w_adam=my_lr_adam(y,x,.1,1000)"
   ]
  },
  {
   "cell_type": "code",
   "execution_count": 43,
   "metadata": {},
   "outputs": [
    {
     "data": {
      "text/plain": [
       "array([5.36307049, 1.99042515, 2.9906794 ])"
      ]
     },
     "execution_count": 43,
     "metadata": {},
     "output_type": "execute_result"
    }
   ],
   "source": [
    "w_adam"
   ]
  },
  {
   "cell_type": "code",
   "execution_count": 44,
   "metadata": {},
   "outputs": [
    {
     "data": {
      "text/plain": [
       "array([1.02591691, 1.00464494, 1.00313146])"
      ]
     },
     "execution_count": 44,
     "metadata": {},
     "output_type": "execute_result"
    }
   ],
   "source": [
    "w_sklearn/w_adam"
   ]
  },
  {
   "cell_type": "code",
   "execution_count": 45,
   "metadata": {},
   "outputs": [
    {
     "data": {
      "text/plain": [
       "<matplotlib.axes._subplots.AxesSubplot at 0x1a279e7ef0>"
      ]
     },
     "execution_count": 45,
     "metadata": {},
     "output_type": "execute_result"
    },
    {
     "data": {
      "image/png": "[encoded data removed]",
      "text/plain": [
       "<Figure size 432x288 with 1 Axes>"
      ]
     },
     "metadata": {
      "needs_background": "light"
     },
     "output_type": "display_data"
    }
   ],
   "source": [
    "np.log(pd.DataFrame({'cost_gd':cost_gd,'cost_sgd':cost_sgd,'cost_mom':cost_mom,'cost_rms':cost_rms,'cost_adam':cost_adam})).plot()"
   ]
  },
  {
   "cell_type": "code",
   "execution_count": null,
   "metadata": {},
   "outputs": [],
   "source": []
  }
 ],
 "metadata": {
  "kernelspec": {
   "display_name": "Python 3",
   "language": "python",
   "name": "python3"
  },
  "language_info": {
   "codemirror_mode": {
    "name": "ipython",
    "version": 3
   },
   "file_extension": ".py",
   "mimetype": "text/x-python",
   "name": "python",
   "nbconvert_exporter": "python",
   "pygments_lexer": "ipython3",
   "version": "3.6.6"
  }
 },
 "nbformat": 4,
 "nbformat_minor": 2
}
